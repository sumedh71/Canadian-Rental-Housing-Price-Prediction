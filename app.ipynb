{
 "cells": [
  {
   "cell_type": "code",
   "execution_count": 2,
   "metadata": {},
   "outputs": [],
   "source": [
    "import pandas as pd\n",
    "import numpy as np\n",
    "import matplotlib.pyplot as plt\n",
    "import seaborn as sns\n",
    "import catboost\n",
    "from sklearn.model_selection import train_test_split \n",
    "from sklearn.linear_model import LinearRegression\n",
    "from sklearn.ensemble import RandomForestRegressor \n",
    "from sklearn.metrics import mean_absolute_error, mean_squared_error"
   ]
  },
  {
   "cell_type": "code",
   "execution_count": 3,
   "metadata": {},
   "outputs": [],
   "source": [
    "data = pd.read_csv('rentfaster.csv')"
   ]
  },
  {
   "cell_type": "code",
   "execution_count": null,
   "metadata": {},
   "outputs": [],
   "source": [
    "data"
   ]
  },
  {
   "cell_type": "code",
   "execution_count": null,
   "metadata": {},
   "outputs": [],
   "source": [
    "data.info()"
   ]
  },
  {
   "cell_type": "code",
   "execution_count": null,
   "metadata": {},
   "outputs": [],
   "source": [
    "data.describe()"
   ]
  },
  {
   "cell_type": "code",
   "execution_count": 7,
   "metadata": {},
   "outputs": [],
   "source": [
    "data.dropna(inplace=True) # modifying the original DataFrame to drop rows with null values"
   ]
  },
  {
   "cell_type": "code",
   "execution_count": null,
   "metadata": {},
   "outputs": [],
   "source": [
    "data.describe()"
   ]
  },
  {
   "cell_type": "code",
   "execution_count": 9,
   "metadata": {},
   "outputs": [],
   "source": [
    "X = data.drop(['price'], axis=1)\n",
    "y = data['price']"
   ]
  },
  {
   "cell_type": "code",
   "execution_count": 10,
   "metadata": {},
   "outputs": [],
   "source": [
    "X_train, X_test, y_train, y_test = train_test_split(X,y, test_size=0.2, random_state=1)"
   ]
  },
  {
   "cell_type": "code",
   "execution_count": 11,
   "metadata": {},
   "outputs": [],
   "source": [
    "train_data = X_train.join(y_train)"
   ]
  },
  {
   "cell_type": "code",
   "execution_count": null,
   "metadata": {},
   "outputs": [],
   "source": [
    "train_data.hist()"
   ]
  },
  {
   "cell_type": "code",
   "execution_count": null,
   "metadata": {},
   "outputs": [],
   "source": [
    "numeric_data = train_data.select_dtypes(include=[np.number])\n",
    "plt.figure(figsize=(20,10))\n",
    "sns.heatmap(numeric_data.corr(),annot=True, cmap=\"YlGnBu\")"
   ]
  },
  {
   "cell_type": "code",
   "execution_count": 14,
   "metadata": {},
   "outputs": [],
   "source": [
    "train_data['pet_eligibility'] = train_data['cats'] & train_data['dogs']\n",
    "train_data['pet_eligibility'] = train_data['pet_eligibility'].astype(int) #converts True/False to 1/0\n"
   ]
  },
  {
   "cell_type": "code",
   "execution_count": null,
   "metadata": {},
   "outputs": [],
   "source": [
    "train_data.pet_eligibility.value_counts()"
   ]
  },
  {
   "cell_type": "code",
   "execution_count": null,
   "metadata": {},
   "outputs": [],
   "source": [
    "print(train_data.dtypes)"
   ]
  },
  {
   "cell_type": "code",
   "execution_count": 17,
   "metadata": {},
   "outputs": [],
   "source": [
    "# Convert 'beds', 'baths', and 'sq_feet' to numeric values \n",
    "train_data['baths'] = pd.to_numeric(train_data['baths'], errors='coerce')\n",
    "train_data['sq_feet'] = pd.to_numeric(train_data['sq_feet'], errors='coerce')\n"
   ]
  },
  {
   "cell_type": "code",
   "execution_count": null,
   "metadata": {},
   "outputs": [],
   "source": [
    "print(train_data.dtypes)"
   ]
  },
  {
   "cell_type": "code",
   "execution_count": null,
   "metadata": {},
   "outputs": [],
   "source": [
    "train_data.hist(figsize=(20,10))"
   ]
  },
  {
   "cell_type": "code",
   "execution_count": 20,
   "metadata": {},
   "outputs": [],
   "source": [
    "train_data['beds'] = train_data['beds'].replace('Studio','0 Beds') # replacing the 'Studio' variable w/ 0 bedrooms by definition, to be able to work with numerically\n"
   ]
  },
  {
   "cell_type": "code",
   "execution_count": null,
   "metadata": {},
   "outputs": [],
   "source": [
    "train_data.beds.value_counts()"
   ]
  },
  {
   "cell_type": "code",
   "execution_count": 22,
   "metadata": {},
   "outputs": [],
   "source": [
    "train_data['beds'] = train_data['beds'].str.split().str[0] # replacing all entries for this column w/ their equivalent numerical value\n",
    "train_data['beds'] = pd.to_numeric(train_data['beds'].str.split().str[0], errors='coerce')\n"
   ]
  },
  {
   "cell_type": "code",
   "execution_count": null,
   "metadata": {},
   "outputs": [],
   "source": [
    "print(train_data.dtypes)"
   ]
  },
  {
   "cell_type": "code",
   "execution_count": 24,
   "metadata": {},
   "outputs": [],
   "source": [
    "train_data['total_rooms'] = train_data['beds'] + train_data['baths']\n",
    "train_data = train_data.drop(['link'],axis=1)\n",
    "train_data = train_data.drop(['address'],axis=1)\n",
    "categorical_features = ['city', 'province', 'lease_term', 'type', 'furnishing', 'availability_date', 'smoking']\n",
    "for category in categorical_features: \n",
    "    train_data = train_data.join(pd.get_dummies(train_data[category], prefix=category, drop_first=True).astype(int))\n",
    "    train_data.drop(category, axis=1, inplace=True)\n",
    "\n",
    "\n",
    "train_data['total_rooms'] = np.log(train_data['total_rooms'] + 1) \n",
    "train_data['beds'] = np.log(train_data['beds'] + 1) \n",
    "train_data['baths'] = np.log(train_data['baths'] + 1) \n",
    "train_data['sq_feet'] = np.log(train_data['sq_feet'] + 1)"
   ]
  },
  {
   "cell_type": "code",
   "execution_count": null,
   "metadata": {},
   "outputs": [],
   "source": [
    "print(train_data.dtypes)"
   ]
  },
  {
   "cell_type": "code",
   "execution_count": 26,
   "metadata": {},
   "outputs": [],
   "source": [
    "test_data = X_test.join(y_test)"
   ]
  },
  {
   "cell_type": "code",
   "execution_count": 27,
   "metadata": {},
   "outputs": [],
   "source": [
    "test_data['pet_eligibility'] = test_data['cats'] & test_data['dogs']\n",
    "test_data['pet_eligibility'] = test_data['pet_eligibility'].astype(int) #converts True/False to 1/0\n",
    "test_data = test_data.drop(['link'], axis=1)\n",
    "test_data = test_data.drop(['address'],axis=1)"
   ]
  },
  {
   "cell_type": "code",
   "execution_count": 28,
   "metadata": {},
   "outputs": [],
   "source": [
    "test_data['beds'] = test_data['beds'].replace('Studio','0 Beds') # replacing the 'Studio' variable w/ 0 bedrooms by definition, to be able to work with numerically\n",
    "test_data['beds'] = test_data['beds'].str.split().str[0] # replacing all entries for this column w/ their equivalent numerical value\n",
    "test_data['beds'] = pd.to_numeric(test_data['beds'].str.split().str[0], errors='coerce')\n",
    "\n",
    "\n",
    "\n",
    "test_data['baths'] = pd.to_numeric(test_data['baths'], errors='coerce')\n",
    "test_data['sq_feet'] = pd.to_numeric(test_data['sq_feet'], errors='coerce')"
   ]
  },
  {
   "cell_type": "code",
   "execution_count": 29,
   "metadata": {},
   "outputs": [],
   "source": [
    "test_data['total_rooms'] = test_data['beds'] + test_data['baths']\n",
    "\n",
    "categorical_features = ['city', 'province', 'lease_term', 'type', 'furnishing', 'availability_date', 'smoking']\n",
    "for category in categorical_features: \n",
    "    test_data = test_data.join(pd.get_dummies(test_data[category], prefix=category, drop_first=True).astype(int))\n",
    "    test_data.drop(category, axis=1, inplace=True)\n",
    "\n",
    "\n",
    "test_data['total_rooms'] = np.log(test_data['total_rooms'] + 1) \n",
    "test_data['beds'] = np.log(test_data['beds'] + 1) \n",
    "test_data['baths'] = np.log(test_data['baths'] + 1) \n",
    "test_data['sq_feet'] = np.log(test_data['sq_feet'] + 1)\n",
    "\n",
    "\n"
   ]
  },
  {
   "cell_type": "code",
   "execution_count": 30,
   "metadata": {},
   "outputs": [],
   "source": [
    "train_data = train_data.apply(pd.to_numeric, errors='coerce')\n"
   ]
  },
  {
   "cell_type": "code",
   "execution_count": 31,
   "metadata": {},
   "outputs": [],
   "source": [
    "# Align columns of test data to match the training data\n",
    "test_data = test_data.reindex(columns=train_data.columns, fill_value=0)\n"
   ]
  },
  {
   "cell_type": "code",
   "execution_count": null,
   "metadata": {},
   "outputs": [],
   "source": [
    "print(test_data.dtypes)"
   ]
  },
  {
   "cell_type": "code",
   "execution_count": null,
   "metadata": {},
   "outputs": [],
   "source": [
    "print(train_data.dtypes)"
   ]
  },
  {
   "cell_type": "code",
   "execution_count": null,
   "metadata": {},
   "outputs": [],
   "source": [
    "rf_model = RandomForestRegressor(n_estimators=100, random_state=1)\n",
    "rf_model.fit(train_data.drop('price', axis=1), train_data['price'])"
   ]
  },
  {
   "cell_type": "code",
   "execution_count": null,
   "metadata": {},
   "outputs": [],
   "source": [
    "# Make predictions on the test data\n",
    "y_pred = rf_model.predict(test_data.drop('price', axis=1))\n",
    "\n",
    "# R² Score (Coefficient of Determination)\n",
    "r2_score = rf_model.score(test_data.drop('price', axis=1), test_data['price'])\n",
    "print(f'R² Score: {r2_score}')\n",
    "\n",
    "# Mean Absolute Error (MAE)\n",
    "mae = mean_absolute_error(test_data['price'], y_pred)\n",
    "print(f'Mean Absolute Error (MAE): {mae}')\n",
    "\n",
    "# Mean Squared Error (MSE)\n",
    "mse = mean_squared_error(test_data['price'], y_pred)\n",
    "print(f'Mean Squared Error (MSE): {mse}')\n",
    "\n",
    "# Root Mean Squared Error (RMSE)\n",
    "rmse = np.sqrt(mse)\n",
    "print(f'Root Mean Squared Error (RMSE): {rmse}')\n"
   ]
  },
  {
   "cell_type": "code",
   "execution_count": null,
   "metadata": {},
   "outputs": [],
   "source": [
    "from sklearn.model_selection import GridSearchCV\n",
    "\n",
    "param_grid = {\n",
    "    'n_estimators': [50, 100, 150],  # Number of trees in the forest\n",
    "    'max_depth': [10, 20, None],  # Maximum depth of the tree\n",
    "    'min_samples_split': [2, 5, 10],  # Minimum number of samples required to split an internal node\n",
    "    'min_samples_leaf': [1, 2, 4],  # Minimum number of samples required to be at a leaf node\n",
    "}\n",
    "\n",
    "grid_search = GridSearchCV(estimator=rf_model, param_grid=param_grid, cv=3, n_jobs=-1, verbose=2)\n",
    "grid_search.fit(train_data.drop('price', axis=1), train_data['price'])\n",
    "\n",
    "best_rf_model = grid_search.best_estimator_\n",
    "\n",
    "y_pred = best_rf_model.predict(test_data.drop('price', axis=1))\n",
    "\n",
    "# Evaluate the predictions\n",
    "print(\"R² Score: \", best_rf_model.score(test_data.drop('price', axis=1), test_data['price']))\n",
    "print(\"Mean Absolute Error (MAE): \", mean_absolute_error(test_data['price'], y_pred))\n",
    "print(\"Mean Squared Error (MSE): \", mean_squared_error(test_data['price'], y_pred))\n",
    "print(\"Root Mean Squared Error (RMSE): \", np.sqrt(mean_squared_error(test_data['price'], y_pred)))\n"
   ]
  }
 ],
 "metadata": {
  "kernelspec": {
   "display_name": "Python 3",
   "language": "python",
   "name": "python3"
  },
  "language_info": {
   "codemirror_mode": {
    "name": "ipython",
    "version": 3
   },
   "file_extension": ".py",
   "mimetype": "text/x-python",
   "name": "python",
   "nbconvert_exporter": "python",
   "pygments_lexer": "ipython3",
   "version": "3.12.4"
  }
 },
 "nbformat": 4,
 "nbformat_minor": 2
}
